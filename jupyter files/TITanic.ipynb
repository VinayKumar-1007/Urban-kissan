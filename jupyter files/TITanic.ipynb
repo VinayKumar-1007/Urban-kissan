{
 "cells": [
  {
   "cell_type": "code",
   "execution_count": 1,
   "metadata": {},
   "outputs": [],
   "source": [
    "import pandas as pd\n",
    "import numpy as np\n",
    "import matplotlib.pyplot as plt\n",
    "import seaborn as sns"
   ]
  },
  {
   "cell_type": "code",
   "execution_count": 8,
   "metadata": {},
   "outputs": [
    {
     "data": {
      "text/html": [
       "<div>\n",
       "<style scoped>\n",
       "    .dataframe tbody tr th:only-of-type {\n",
       "        vertical-align: middle;\n",
       "    }\n",
       "\n",
       "    .dataframe tbody tr th {\n",
       "        vertical-align: top;\n",
       "    }\n",
       "\n",
       "    .dataframe thead th {\n",
       "        text-align: right;\n",
       "    }\n",
       "</style>\n",
       "<table border=\"1\" class=\"dataframe\">\n",
       "  <thead>\n",
       "    <tr style=\"text-align: right;\">\n",
       "      <th></th>\n",
       "      <th>battery_power</th>\n",
       "      <th>blue</th>\n",
       "      <th>clock_speed</th>\n",
       "      <th>dual_sim</th>\n",
       "      <th>fc</th>\n",
       "      <th>four_g</th>\n",
       "      <th>int_memory</th>\n",
       "      <th>m_dep</th>\n",
       "      <th>mobile_wt</th>\n",
       "      <th>n_cores</th>\n",
       "      <th>...</th>\n",
       "      <th>px_height</th>\n",
       "      <th>px_width</th>\n",
       "      <th>ram</th>\n",
       "      <th>sc_h</th>\n",
       "      <th>sc_w</th>\n",
       "      <th>talk_time</th>\n",
       "      <th>three_g</th>\n",
       "      <th>touch_screen</th>\n",
       "      <th>wifi</th>\n",
       "      <th>price_range</th>\n",
       "    </tr>\n",
       "  </thead>\n",
       "  <tbody>\n",
       "    <tr>\n",
       "      <th>0</th>\n",
       "      <td>842</td>\n",
       "      <td>0</td>\n",
       "      <td>2.2</td>\n",
       "      <td>0</td>\n",
       "      <td>1</td>\n",
       "      <td>0</td>\n",
       "      <td>7</td>\n",
       "      <td>0.6</td>\n",
       "      <td>188</td>\n",
       "      <td>2</td>\n",
       "      <td>...</td>\n",
       "      <td>20</td>\n",
       "      <td>756</td>\n",
       "      <td>2549</td>\n",
       "      <td>9</td>\n",
       "      <td>7</td>\n",
       "      <td>19</td>\n",
       "      <td>0</td>\n",
       "      <td>0</td>\n",
       "      <td>1</td>\n",
       "      <td>1</td>\n",
       "    </tr>\n",
       "    <tr>\n",
       "      <th>1</th>\n",
       "      <td>1021</td>\n",
       "      <td>1</td>\n",
       "      <td>0.5</td>\n",
       "      <td>1</td>\n",
       "      <td>0</td>\n",
       "      <td>1</td>\n",
       "      <td>53</td>\n",
       "      <td>0.7</td>\n",
       "      <td>136</td>\n",
       "      <td>3</td>\n",
       "      <td>...</td>\n",
       "      <td>905</td>\n",
       "      <td>1988</td>\n",
       "      <td>2631</td>\n",
       "      <td>17</td>\n",
       "      <td>3</td>\n",
       "      <td>7</td>\n",
       "      <td>1</td>\n",
       "      <td>1</td>\n",
       "      <td>0</td>\n",
       "      <td>2</td>\n",
       "    </tr>\n",
       "    <tr>\n",
       "      <th>2</th>\n",
       "      <td>563</td>\n",
       "      <td>1</td>\n",
       "      <td>0.5</td>\n",
       "      <td>1</td>\n",
       "      <td>2</td>\n",
       "      <td>1</td>\n",
       "      <td>41</td>\n",
       "      <td>0.9</td>\n",
       "      <td>145</td>\n",
       "      <td>5</td>\n",
       "      <td>...</td>\n",
       "      <td>1263</td>\n",
       "      <td>1716</td>\n",
       "      <td>2603</td>\n",
       "      <td>11</td>\n",
       "      <td>2</td>\n",
       "      <td>9</td>\n",
       "      <td>1</td>\n",
       "      <td>1</td>\n",
       "      <td>0</td>\n",
       "      <td>2</td>\n",
       "    </tr>\n",
       "    <tr>\n",
       "      <th>3</th>\n",
       "      <td>615</td>\n",
       "      <td>1</td>\n",
       "      <td>2.5</td>\n",
       "      <td>0</td>\n",
       "      <td>0</td>\n",
       "      <td>0</td>\n",
       "      <td>10</td>\n",
       "      <td>0.8</td>\n",
       "      <td>131</td>\n",
       "      <td>6</td>\n",
       "      <td>...</td>\n",
       "      <td>1216</td>\n",
       "      <td>1786</td>\n",
       "      <td>2769</td>\n",
       "      <td>16</td>\n",
       "      <td>8</td>\n",
       "      <td>11</td>\n",
       "      <td>1</td>\n",
       "      <td>0</td>\n",
       "      <td>0</td>\n",
       "      <td>2</td>\n",
       "    </tr>\n",
       "    <tr>\n",
       "      <th>4</th>\n",
       "      <td>1821</td>\n",
       "      <td>1</td>\n",
       "      <td>1.2</td>\n",
       "      <td>0</td>\n",
       "      <td>13</td>\n",
       "      <td>1</td>\n",
       "      <td>44</td>\n",
       "      <td>0.6</td>\n",
       "      <td>141</td>\n",
       "      <td>2</td>\n",
       "      <td>...</td>\n",
       "      <td>1208</td>\n",
       "      <td>1212</td>\n",
       "      <td>1411</td>\n",
       "      <td>8</td>\n",
       "      <td>2</td>\n",
       "      <td>15</td>\n",
       "      <td>1</td>\n",
       "      <td>1</td>\n",
       "      <td>0</td>\n",
       "      <td>1</td>\n",
       "    </tr>\n",
       "  </tbody>\n",
       "</table>\n",
       "<p>5 rows × 21 columns</p>\n",
       "</div>"
      ],
      "text/plain": [
       "   battery_power  blue  clock_speed  dual_sim  fc  four_g  int_memory  m_dep  \\\n",
       "0            842     0          2.2         0   1       0           7    0.6   \n",
       "1           1021     1          0.5         1   0       1          53    0.7   \n",
       "2            563     1          0.5         1   2       1          41    0.9   \n",
       "3            615     1          2.5         0   0       0          10    0.8   \n",
       "4           1821     1          1.2         0  13       1          44    0.6   \n",
       "\n",
       "   mobile_wt  n_cores  ...  px_height  px_width   ram  sc_h  sc_w  talk_time  \\\n",
       "0        188        2  ...         20       756  2549     9     7         19   \n",
       "1        136        3  ...        905      1988  2631    17     3          7   \n",
       "2        145        5  ...       1263      1716  2603    11     2          9   \n",
       "3        131        6  ...       1216      1786  2769    16     8         11   \n",
       "4        141        2  ...       1208      1212  1411     8     2         15   \n",
       "\n",
       "   three_g  touch_screen  wifi  price_range  \n",
       "0        0             0     1            1  \n",
       "1        1             1     0            2  \n",
       "2        1             1     0            2  \n",
       "3        1             0     0            2  \n",
       "4        1             1     0            1  \n",
       "\n",
       "[5 rows x 21 columns]"
      ]
     },
     "execution_count": 8,
     "metadata": {},
     "output_type": "execute_result"
    }
   ],
   "source": [
    "data=pd.read_csv(\"mobile.csv\")\n",
    "data.head()"
   ]
  },
  {
   "cell_type": "code",
   "execution_count": 9,
   "metadata": {},
   "outputs": [
    {
     "data": {
      "text/html": [
       "<div>\n",
       "<style scoped>\n",
       "    .dataframe tbody tr th:only-of-type {\n",
       "        vertical-align: middle;\n",
       "    }\n",
       "\n",
       "    .dataframe tbody tr th {\n",
       "        vertical-align: top;\n",
       "    }\n",
       "\n",
       "    .dataframe thead th {\n",
       "        text-align: right;\n",
       "    }\n",
       "</style>\n",
       "<table border=\"1\" class=\"dataframe\">\n",
       "  <thead>\n",
       "    <tr style=\"text-align: right;\">\n",
       "      <th></th>\n",
       "      <th>battery_power</th>\n",
       "      <th>blue</th>\n",
       "      <th>clock_speed</th>\n",
       "      <th>dual_sim</th>\n",
       "      <th>fc</th>\n",
       "      <th>four_g</th>\n",
       "      <th>int_memory</th>\n",
       "      <th>m_dep</th>\n",
       "      <th>mobile_wt</th>\n",
       "      <th>n_cores</th>\n",
       "      <th>...</th>\n",
       "      <th>px_height</th>\n",
       "      <th>px_width</th>\n",
       "      <th>ram</th>\n",
       "      <th>sc_h</th>\n",
       "      <th>sc_w</th>\n",
       "      <th>talk_time</th>\n",
       "      <th>three_g</th>\n",
       "      <th>touch_screen</th>\n",
       "      <th>wifi</th>\n",
       "      <th>price_range</th>\n",
       "    </tr>\n",
       "  </thead>\n",
       "  <tbody>\n",
       "    <tr>\n",
       "      <th>count</th>\n",
       "      <td>2000.000000</td>\n",
       "      <td>2000.0000</td>\n",
       "      <td>2000.000000</td>\n",
       "      <td>2000.000000</td>\n",
       "      <td>2000.000000</td>\n",
       "      <td>2000.000000</td>\n",
       "      <td>2000.000000</td>\n",
       "      <td>2000.000000</td>\n",
       "      <td>2000.000000</td>\n",
       "      <td>2000.000000</td>\n",
       "      <td>...</td>\n",
       "      <td>2000.000000</td>\n",
       "      <td>2000.000000</td>\n",
       "      <td>2000.000000</td>\n",
       "      <td>2000.000000</td>\n",
       "      <td>2000.000000</td>\n",
       "      <td>2000.000000</td>\n",
       "      <td>2000.000000</td>\n",
       "      <td>2000.000000</td>\n",
       "      <td>2000.000000</td>\n",
       "      <td>2000.000000</td>\n",
       "    </tr>\n",
       "    <tr>\n",
       "      <th>mean</th>\n",
       "      <td>1238.518500</td>\n",
       "      <td>0.4950</td>\n",
       "      <td>1.522250</td>\n",
       "      <td>0.509500</td>\n",
       "      <td>4.309500</td>\n",
       "      <td>0.521500</td>\n",
       "      <td>32.046500</td>\n",
       "      <td>0.501750</td>\n",
       "      <td>140.249000</td>\n",
       "      <td>4.520500</td>\n",
       "      <td>...</td>\n",
       "      <td>645.108000</td>\n",
       "      <td>1251.515500</td>\n",
       "      <td>2124.213000</td>\n",
       "      <td>12.306500</td>\n",
       "      <td>5.767000</td>\n",
       "      <td>11.011000</td>\n",
       "      <td>0.761500</td>\n",
       "      <td>0.503000</td>\n",
       "      <td>0.507000</td>\n",
       "      <td>1.500000</td>\n",
       "    </tr>\n",
       "    <tr>\n",
       "      <th>std</th>\n",
       "      <td>439.418206</td>\n",
       "      <td>0.5001</td>\n",
       "      <td>0.816004</td>\n",
       "      <td>0.500035</td>\n",
       "      <td>4.341444</td>\n",
       "      <td>0.499662</td>\n",
       "      <td>18.145715</td>\n",
       "      <td>0.288416</td>\n",
       "      <td>35.399655</td>\n",
       "      <td>2.287837</td>\n",
       "      <td>...</td>\n",
       "      <td>443.780811</td>\n",
       "      <td>432.199447</td>\n",
       "      <td>1084.732044</td>\n",
       "      <td>4.213245</td>\n",
       "      <td>4.356398</td>\n",
       "      <td>5.463955</td>\n",
       "      <td>0.426273</td>\n",
       "      <td>0.500116</td>\n",
       "      <td>0.500076</td>\n",
       "      <td>1.118314</td>\n",
       "    </tr>\n",
       "    <tr>\n",
       "      <th>min</th>\n",
       "      <td>501.000000</td>\n",
       "      <td>0.0000</td>\n",
       "      <td>0.500000</td>\n",
       "      <td>0.000000</td>\n",
       "      <td>0.000000</td>\n",
       "      <td>0.000000</td>\n",
       "      <td>2.000000</td>\n",
       "      <td>0.100000</td>\n",
       "      <td>80.000000</td>\n",
       "      <td>1.000000</td>\n",
       "      <td>...</td>\n",
       "      <td>0.000000</td>\n",
       "      <td>500.000000</td>\n",
       "      <td>256.000000</td>\n",
       "      <td>5.000000</td>\n",
       "      <td>0.000000</td>\n",
       "      <td>2.000000</td>\n",
       "      <td>0.000000</td>\n",
       "      <td>0.000000</td>\n",
       "      <td>0.000000</td>\n",
       "      <td>0.000000</td>\n",
       "    </tr>\n",
       "    <tr>\n",
       "      <th>25%</th>\n",
       "      <td>851.750000</td>\n",
       "      <td>0.0000</td>\n",
       "      <td>0.700000</td>\n",
       "      <td>0.000000</td>\n",
       "      <td>1.000000</td>\n",
       "      <td>0.000000</td>\n",
       "      <td>16.000000</td>\n",
       "      <td>0.200000</td>\n",
       "      <td>109.000000</td>\n",
       "      <td>3.000000</td>\n",
       "      <td>...</td>\n",
       "      <td>282.750000</td>\n",
       "      <td>874.750000</td>\n",
       "      <td>1207.500000</td>\n",
       "      <td>9.000000</td>\n",
       "      <td>2.000000</td>\n",
       "      <td>6.000000</td>\n",
       "      <td>1.000000</td>\n",
       "      <td>0.000000</td>\n",
       "      <td>0.000000</td>\n",
       "      <td>0.750000</td>\n",
       "    </tr>\n",
       "    <tr>\n",
       "      <th>50%</th>\n",
       "      <td>1226.000000</td>\n",
       "      <td>0.0000</td>\n",
       "      <td>1.500000</td>\n",
       "      <td>1.000000</td>\n",
       "      <td>3.000000</td>\n",
       "      <td>1.000000</td>\n",
       "      <td>32.000000</td>\n",
       "      <td>0.500000</td>\n",
       "      <td>141.000000</td>\n",
       "      <td>4.000000</td>\n",
       "      <td>...</td>\n",
       "      <td>564.000000</td>\n",
       "      <td>1247.000000</td>\n",
       "      <td>2146.500000</td>\n",
       "      <td>12.000000</td>\n",
       "      <td>5.000000</td>\n",
       "      <td>11.000000</td>\n",
       "      <td>1.000000</td>\n",
       "      <td>1.000000</td>\n",
       "      <td>1.000000</td>\n",
       "      <td>1.500000</td>\n",
       "    </tr>\n",
       "    <tr>\n",
       "      <th>75%</th>\n",
       "      <td>1615.250000</td>\n",
       "      <td>1.0000</td>\n",
       "      <td>2.200000</td>\n",
       "      <td>1.000000</td>\n",
       "      <td>7.000000</td>\n",
       "      <td>1.000000</td>\n",
       "      <td>48.000000</td>\n",
       "      <td>0.800000</td>\n",
       "      <td>170.000000</td>\n",
       "      <td>7.000000</td>\n",
       "      <td>...</td>\n",
       "      <td>947.250000</td>\n",
       "      <td>1633.000000</td>\n",
       "      <td>3064.500000</td>\n",
       "      <td>16.000000</td>\n",
       "      <td>9.000000</td>\n",
       "      <td>16.000000</td>\n",
       "      <td>1.000000</td>\n",
       "      <td>1.000000</td>\n",
       "      <td>1.000000</td>\n",
       "      <td>2.250000</td>\n",
       "    </tr>\n",
       "    <tr>\n",
       "      <th>max</th>\n",
       "      <td>1998.000000</td>\n",
       "      <td>1.0000</td>\n",
       "      <td>3.000000</td>\n",
       "      <td>1.000000</td>\n",
       "      <td>19.000000</td>\n",
       "      <td>1.000000</td>\n",
       "      <td>64.000000</td>\n",
       "      <td>1.000000</td>\n",
       "      <td>200.000000</td>\n",
       "      <td>8.000000</td>\n",
       "      <td>...</td>\n",
       "      <td>1960.000000</td>\n",
       "      <td>1998.000000</td>\n",
       "      <td>3998.000000</td>\n",
       "      <td>19.000000</td>\n",
       "      <td>18.000000</td>\n",
       "      <td>20.000000</td>\n",
       "      <td>1.000000</td>\n",
       "      <td>1.000000</td>\n",
       "      <td>1.000000</td>\n",
       "      <td>3.000000</td>\n",
       "    </tr>\n",
       "  </tbody>\n",
       "</table>\n",
       "<p>8 rows × 21 columns</p>\n",
       "</div>"
      ],
      "text/plain": [
       "       battery_power       blue  clock_speed     dual_sim           fc  \\\n",
       "count    2000.000000  2000.0000  2000.000000  2000.000000  2000.000000   \n",
       "mean     1238.518500     0.4950     1.522250     0.509500     4.309500   \n",
       "std       439.418206     0.5001     0.816004     0.500035     4.341444   \n",
       "min       501.000000     0.0000     0.500000     0.000000     0.000000   \n",
       "25%       851.750000     0.0000     0.700000     0.000000     1.000000   \n",
       "50%      1226.000000     0.0000     1.500000     1.000000     3.000000   \n",
       "75%      1615.250000     1.0000     2.200000     1.000000     7.000000   \n",
       "max      1998.000000     1.0000     3.000000     1.000000    19.000000   \n",
       "\n",
       "            four_g   int_memory        m_dep    mobile_wt      n_cores  ...  \\\n",
       "count  2000.000000  2000.000000  2000.000000  2000.000000  2000.000000  ...   \n",
       "mean      0.521500    32.046500     0.501750   140.249000     4.520500  ...   \n",
       "std       0.499662    18.145715     0.288416    35.399655     2.287837  ...   \n",
       "min       0.000000     2.000000     0.100000    80.000000     1.000000  ...   \n",
       "25%       0.000000    16.000000     0.200000   109.000000     3.000000  ...   \n",
       "50%       1.000000    32.000000     0.500000   141.000000     4.000000  ...   \n",
       "75%       1.000000    48.000000     0.800000   170.000000     7.000000  ...   \n",
       "max       1.000000    64.000000     1.000000   200.000000     8.000000  ...   \n",
       "\n",
       "         px_height     px_width          ram         sc_h         sc_w  \\\n",
       "count  2000.000000  2000.000000  2000.000000  2000.000000  2000.000000   \n",
       "mean    645.108000  1251.515500  2124.213000    12.306500     5.767000   \n",
       "std     443.780811   432.199447  1084.732044     4.213245     4.356398   \n",
       "min       0.000000   500.000000   256.000000     5.000000     0.000000   \n",
       "25%     282.750000   874.750000  1207.500000     9.000000     2.000000   \n",
       "50%     564.000000  1247.000000  2146.500000    12.000000     5.000000   \n",
       "75%     947.250000  1633.000000  3064.500000    16.000000     9.000000   \n",
       "max    1960.000000  1998.000000  3998.000000    19.000000    18.000000   \n",
       "\n",
       "         talk_time      three_g  touch_screen         wifi  price_range  \n",
       "count  2000.000000  2000.000000   2000.000000  2000.000000  2000.000000  \n",
       "mean     11.011000     0.761500      0.503000     0.507000     1.500000  \n",
       "std       5.463955     0.426273      0.500116     0.500076     1.118314  \n",
       "min       2.000000     0.000000      0.000000     0.000000     0.000000  \n",
       "25%       6.000000     1.000000      0.000000     0.000000     0.750000  \n",
       "50%      11.000000     1.000000      1.000000     1.000000     1.500000  \n",
       "75%      16.000000     1.000000      1.000000     1.000000     2.250000  \n",
       "max      20.000000     1.000000      1.000000     1.000000     3.000000  \n",
       "\n",
       "[8 rows x 21 columns]"
      ]
     },
     "execution_count": 9,
     "metadata": {},
     "output_type": "execute_result"
    }
   ],
   "source": [
    "data.describe()"
   ]
  },
  {
   "cell_type": "code",
   "execution_count": 10,
   "metadata": {},
   "outputs": [
    {
     "data": {
      "text/plain": [
       "battery_power    0\n",
       "blue             0\n",
       "clock_speed      0\n",
       "dual_sim         0\n",
       "fc               0\n",
       "four_g           0\n",
       "int_memory       0\n",
       "m_dep            0\n",
       "mobile_wt        0\n",
       "n_cores          0\n",
       "pc               0\n",
       "px_height        0\n",
       "px_width         0\n",
       "ram              0\n",
       "sc_h             0\n",
       "sc_w             0\n",
       "talk_time        0\n",
       "three_g          0\n",
       "touch_screen     0\n",
       "wifi             0\n",
       "price_range      0\n",
       "dtype: int64"
      ]
     },
     "execution_count": 10,
     "metadata": {},
     "output_type": "execute_result"
    }
   ],
   "source": [
    "data.isnull().sum()"
   ]
  },
  {
   "cell_type": "code",
   "execution_count": 11,
   "metadata": {},
   "outputs": [],
   "source": [
    "from sklearn import ensemble\n",
    "from sklearn import metrics\n",
    "from sklearn import model_selection"
   ]
  },
  {
   "cell_type": "code",
   "execution_count": 12,
   "metadata": {},
   "outputs": [],
   "source": [
    "x=data.drop(['price_range'],axis=1).values"
   ]
  },
  {
   "cell_type": "code",
   "execution_count": 13,
   "metadata": {},
   "outputs": [],
   "source": [
    "y=data[\"price_range\"].values"
   ]
  },
  {
   "cell_type": "code",
   "execution_count": 14,
   "metadata": {},
   "outputs": [],
   "source": [
    "classifier=ensemble.RandomForestClassifier(n_jobs=-1)\n",
    "param_grid={\n",
    "    'n_estimators':[100,200,300,400],\n",
    "    'max_depth':[1,3,5,7],\n",
    "    'criterion':['gini','entropy'],\n",
    "}"
   ]
  },
  {
   "cell_type": "code",
   "execution_count": 17,
   "metadata": {},
   "outputs": [],
   "source": [
    "model=model_selection.GridSearchCV(estimator=classifier,param_grid=param_grid,scoring='accuracy',\n",
    "                                  verbose=10,n_jobs=1,cv=5)"
   ]
  },
  {
   "cell_type": "code",
   "execution_count": 18,
   "metadata": {},
   "outputs": [
    {
     "name": "stdout",
     "output_type": "stream",
     "text": [
      "Fitting 5 folds for each of 32 candidates, totalling 160 fits\n",
      "[CV] criterion=gini, max_depth=1, n_estimators=100 ...................\n"
     ]
    },
    {
     "name": "stderr",
     "output_type": "stream",
     "text": [
      "[Parallel(n_jobs=1)]: Using backend SequentialBackend with 1 concurrent workers.\n"
     ]
    },
    {
     "name": "stdout",
     "output_type": "stream",
     "text": [
      "[CV]  criterion=gini, max_depth=1, n_estimators=100, score=0.615, total=   0.3s\n",
      "[CV] criterion=gini, max_depth=1, n_estimators=100 ...................\n"
     ]
    },
    {
     "name": "stderr",
     "output_type": "stream",
     "text": [
      "[Parallel(n_jobs=1)]: Done   1 out of   1 | elapsed:    0.2s remaining:    0.0s\n"
     ]
    },
    {
     "name": "stdout",
     "output_type": "stream",
     "text": [
      "[CV]  criterion=gini, max_depth=1, n_estimators=100, score=0.573, total=   0.3s\n",
      "[CV] criterion=gini, max_depth=1, n_estimators=100 ...................\n"
     ]
    },
    {
     "name": "stderr",
     "output_type": "stream",
     "text": [
      "[Parallel(n_jobs=1)]: Done   2 out of   2 | elapsed:    0.5s remaining:    0.0s\n"
     ]
    },
    {
     "name": "stdout",
     "output_type": "stream",
     "text": [
      "[CV]  criterion=gini, max_depth=1, n_estimators=100, score=0.588, total=   0.3s\n",
      "[CV] criterion=gini, max_depth=1, n_estimators=100 ...................\n"
     ]
    },
    {
     "name": "stderr",
     "output_type": "stream",
     "text": [
      "[Parallel(n_jobs=1)]: Done   3 out of   3 | elapsed:    0.8s remaining:    0.0s\n"
     ]
    },
    {
     "name": "stdout",
     "output_type": "stream",
     "text": [
      "[CV]  criterion=gini, max_depth=1, n_estimators=100, score=0.530, total=   0.3s\n",
      "[CV] criterion=gini, max_depth=1, n_estimators=100 ...................\n"
     ]
    },
    {
     "name": "stderr",
     "output_type": "stream",
     "text": [
      "[Parallel(n_jobs=1)]: Done   4 out of   4 | elapsed:    1.1s remaining:    0.0s\n"
     ]
    },
    {
     "name": "stdout",
     "output_type": "stream",
     "text": [
      "[CV]  criterion=gini, max_depth=1, n_estimators=100, score=0.562, total=   0.3s\n",
      "[CV] criterion=gini, max_depth=1, n_estimators=200 ...................\n"
     ]
    },
    {
     "name": "stderr",
     "output_type": "stream",
     "text": [
      "[Parallel(n_jobs=1)]: Done   5 out of   5 | elapsed:    1.5s remaining:    0.0s\n"
     ]
    },
    {
     "name": "stdout",
     "output_type": "stream",
     "text": [
      "[CV]  criterion=gini, max_depth=1, n_estimators=200, score=0.603, total=   0.5s\n",
      "[CV] criterion=gini, max_depth=1, n_estimators=200 ...................\n"
     ]
    },
    {
     "name": "stderr",
     "output_type": "stream",
     "text": [
      "[Parallel(n_jobs=1)]: Done   6 out of   6 | elapsed:    2.0s remaining:    0.0s\n"
     ]
    },
    {
     "name": "stdout",
     "output_type": "stream",
     "text": [
      "[CV]  criterion=gini, max_depth=1, n_estimators=200, score=0.600, total=   0.5s\n",
      "[CV] criterion=gini, max_depth=1, n_estimators=200 ...................\n"
     ]
    },
    {
     "name": "stderr",
     "output_type": "stream",
     "text": [
      "[Parallel(n_jobs=1)]: Done   7 out of   7 | elapsed:    2.5s remaining:    0.0s\n"
     ]
    },
    {
     "name": "stdout",
     "output_type": "stream",
     "text": [
      "[CV]  criterion=gini, max_depth=1, n_estimators=200, score=0.590, total=   0.5s\n",
      "[CV] criterion=gini, max_depth=1, n_estimators=200 ...................\n"
     ]
    },
    {
     "name": "stderr",
     "output_type": "stream",
     "text": [
      "[Parallel(n_jobs=1)]: Done   8 out of   8 | elapsed:    3.0s remaining:    0.0s\n"
     ]
    },
    {
     "name": "stdout",
     "output_type": "stream",
     "text": [
      "[CV]  criterion=gini, max_depth=1, n_estimators=200, score=0.595, total=   0.5s\n",
      "[CV] criterion=gini, max_depth=1, n_estimators=200 ...................\n"
     ]
    },
    {
     "name": "stderr",
     "output_type": "stream",
     "text": [
      "[Parallel(n_jobs=1)]: Done   9 out of   9 | elapsed:    3.5s remaining:    0.0s\n"
     ]
    },
    {
     "name": "stdout",
     "output_type": "stream",
     "text": [
      "[CV]  criterion=gini, max_depth=1, n_estimators=200, score=0.605, total=   0.5s\n",
      "[CV] criterion=gini, max_depth=1, n_estimators=300 ...................\n",
      "[CV]  criterion=gini, max_depth=1, n_estimators=300, score=0.593, total=   0.7s\n",
      "[CV] criterion=gini, max_depth=1, n_estimators=300 ...................\n",
      "[CV]  criterion=gini, max_depth=1, n_estimators=300, score=0.595, total=   0.7s\n",
      "[CV] criterion=gini, max_depth=1, n_estimators=300 ...................\n",
      "[CV]  criterion=gini, max_depth=1, n_estimators=300, score=0.618, total=   0.7s\n",
      "[CV] criterion=gini, max_depth=1, n_estimators=300 ...................\n",
      "[CV]  criterion=gini, max_depth=1, n_estimators=300, score=0.568, total=   0.7s\n",
      "[CV] criterion=gini, max_depth=1, n_estimators=300 ...................\n",
      "[CV]  criterion=gini, max_depth=1, n_estimators=300, score=0.583, total=   0.7s\n",
      "[CV] criterion=gini, max_depth=1, n_estimators=400 ...................\n",
      "[CV]  criterion=gini, max_depth=1, n_estimators=400, score=0.568, total=   0.8s\n",
      "[CV] criterion=gini, max_depth=1, n_estimators=400 ...................\n",
      "[CV]  criterion=gini, max_depth=1, n_estimators=400, score=0.600, total=   0.8s\n",
      "[CV] criterion=gini, max_depth=1, n_estimators=400 ...................\n",
      "[CV]  criterion=gini, max_depth=1, n_estimators=400, score=0.625, total=   0.9s\n",
      "[CV] criterion=gini, max_depth=1, n_estimators=400 ...................\n",
      "[CV]  criterion=gini, max_depth=1, n_estimators=400, score=0.575, total=   0.8s\n",
      "[CV] criterion=gini, max_depth=1, n_estimators=400 ...................\n",
      "[CV]  criterion=gini, max_depth=1, n_estimators=400, score=0.585, total=   0.7s\n",
      "[CV] criterion=gini, max_depth=3, n_estimators=100 ...................\n",
      "[CV]  criterion=gini, max_depth=3, n_estimators=100, score=0.787, total=   0.3s\n",
      "[CV] criterion=gini, max_depth=3, n_estimators=100 ...................\n",
      "[CV]  criterion=gini, max_depth=3, n_estimators=100, score=0.777, total=   0.3s\n",
      "[CV] criterion=gini, max_depth=3, n_estimators=100 ...................\n",
      "[CV]  criterion=gini, max_depth=3, n_estimators=100, score=0.815, total=   0.3s\n",
      "[CV] criterion=gini, max_depth=3, n_estimators=100 ...................\n",
      "[CV]  criterion=gini, max_depth=3, n_estimators=100, score=0.792, total=   0.3s\n",
      "[CV] criterion=gini, max_depth=3, n_estimators=100 ...................\n",
      "[CV]  criterion=gini, max_depth=3, n_estimators=100, score=0.782, total=   0.3s\n",
      "[CV] criterion=gini, max_depth=3, n_estimators=200 ...................\n",
      "[CV]  criterion=gini, max_depth=3, n_estimators=200, score=0.800, total=   0.5s\n",
      "[CV] criterion=gini, max_depth=3, n_estimators=200 ...................\n",
      "[CV]  criterion=gini, max_depth=3, n_estimators=200, score=0.792, total=   0.5s\n",
      "[CV] criterion=gini, max_depth=3, n_estimators=200 ...................\n",
      "[CV]  criterion=gini, max_depth=3, n_estimators=200, score=0.823, total=   0.4s\n",
      "[CV] criterion=gini, max_depth=3, n_estimators=200 ...................\n",
      "[CV]  criterion=gini, max_depth=3, n_estimators=200, score=0.818, total=   0.5s\n",
      "[CV] criterion=gini, max_depth=3, n_estimators=200 ...................\n",
      "[CV]  criterion=gini, max_depth=3, n_estimators=200, score=0.805, total=   0.5s\n",
      "[CV] criterion=gini, max_depth=3, n_estimators=300 ...................\n",
      "[CV]  criterion=gini, max_depth=3, n_estimators=300, score=0.785, total=   0.8s\n",
      "[CV] criterion=gini, max_depth=3, n_estimators=300 ...................\n",
      "[CV]  criterion=gini, max_depth=3, n_estimators=300, score=0.787, total=   0.7s\n",
      "[CV] criterion=gini, max_depth=3, n_estimators=300 ...................\n",
      "[CV]  criterion=gini, max_depth=3, n_estimators=300, score=0.828, total=   0.7s\n",
      "[CV] criterion=gini, max_depth=3, n_estimators=300 ...................\n",
      "[CV]  criterion=gini, max_depth=3, n_estimators=300, score=0.800, total=   0.8s\n",
      "[CV] criterion=gini, max_depth=3, n_estimators=300 ...................\n",
      "[CV]  criterion=gini, max_depth=3, n_estimators=300, score=0.805, total=   0.7s\n",
      "[CV] criterion=gini, max_depth=3, n_estimators=400 ...................\n",
      "[CV]  criterion=gini, max_depth=3, n_estimators=400, score=0.782, total=   0.9s\n",
      "[CV] criterion=gini, max_depth=3, n_estimators=400 ...................\n",
      "[CV]  criterion=gini, max_depth=3, n_estimators=400, score=0.807, total=   0.9s\n",
      "[CV] criterion=gini, max_depth=3, n_estimators=400 ...................\n",
      "[CV]  criterion=gini, max_depth=3, n_estimators=400, score=0.828, total=   0.8s\n",
      "[CV] criterion=gini, max_depth=3, n_estimators=400 ...................\n",
      "[CV]  criterion=gini, max_depth=3, n_estimators=400, score=0.797, total=   0.8s\n",
      "[CV] criterion=gini, max_depth=3, n_estimators=400 ...................\n",
      "[CV]  criterion=gini, max_depth=3, n_estimators=400, score=0.792, total=   0.9s\n",
      "[CV] criterion=gini, max_depth=5, n_estimators=100 ...................\n",
      "[CV]  criterion=gini, max_depth=5, n_estimators=100, score=0.830, total=   0.3s\n",
      "[CV] criterion=gini, max_depth=5, n_estimators=100 ...................\n",
      "[CV]  criterion=gini, max_depth=5, n_estimators=100, score=0.833, total=   0.3s\n",
      "[CV] criterion=gini, max_depth=5, n_estimators=100 ...................\n",
      "[CV]  criterion=gini, max_depth=5, n_estimators=100, score=0.863, total=   0.3s\n",
      "[CV] criterion=gini, max_depth=5, n_estimators=100 ...................\n",
      "[CV]  criterion=gini, max_depth=5, n_estimators=100, score=0.825, total=   0.3s\n",
      "[CV] criterion=gini, max_depth=5, n_estimators=100 ...................\n",
      "[CV]  criterion=gini, max_depth=5, n_estimators=100, score=0.818, total=   0.3s\n",
      "[CV] criterion=gini, max_depth=5, n_estimators=200 ...................\n",
      "[CV]  criterion=gini, max_depth=5, n_estimators=200, score=0.833, total=   0.5s\n",
      "[CV] criterion=gini, max_depth=5, n_estimators=200 ...................\n",
      "[CV]  criterion=gini, max_depth=5, n_estimators=200, score=0.850, total=   0.6s\n",
      "[CV] criterion=gini, max_depth=5, n_estimators=200 ...................\n",
      "[CV]  criterion=gini, max_depth=5, n_estimators=200, score=0.850, total=   0.5s\n",
      "[CV] criterion=gini, max_depth=5, n_estimators=200 ...................\n",
      "[CV]  criterion=gini, max_depth=5, n_estimators=200, score=0.838, total=   0.6s\n",
      "[CV] criterion=gini, max_depth=5, n_estimators=200 ...................\n",
      "[CV]  criterion=gini, max_depth=5, n_estimators=200, score=0.825, total=   0.5s\n",
      "[CV] criterion=gini, max_depth=5, n_estimators=300 ...................\n",
      "[CV]  criterion=gini, max_depth=5, n_estimators=300, score=0.833, total=   0.8s\n",
      "[CV] criterion=gini, max_depth=5, n_estimators=300 ...................\n",
      "[CV]  criterion=gini, max_depth=5, n_estimators=300, score=0.848, total=   0.9s\n",
      "[CV] criterion=gini, max_depth=5, n_estimators=300 ...................\n",
      "[CV]  criterion=gini, max_depth=5, n_estimators=300, score=0.858, total=   0.9s\n",
      "[CV] criterion=gini, max_depth=5, n_estimators=300 ...................\n",
      "[CV]  criterion=gini, max_depth=5, n_estimators=300, score=0.838, total=   0.9s\n",
      "[CV] criterion=gini, max_depth=5, n_estimators=300 ...................\n",
      "[CV]  criterion=gini, max_depth=5, n_estimators=300, score=0.818, total=   0.9s\n",
      "[CV] criterion=gini, max_depth=5, n_estimators=400 ...................\n",
      "[CV]  criterion=gini, max_depth=5, n_estimators=400, score=0.845, total=   1.0s\n",
      "[CV] criterion=gini, max_depth=5, n_estimators=400 ...................\n",
      "[CV]  criterion=gini, max_depth=5, n_estimators=400, score=0.833, total=   1.0s\n",
      "[CV] criterion=gini, max_depth=5, n_estimators=400 ...................\n",
      "[CV]  criterion=gini, max_depth=5, n_estimators=400, score=0.875, total=   0.9s\n",
      "[CV] criterion=gini, max_depth=5, n_estimators=400 ...................\n",
      "[CV]  criterion=gini, max_depth=5, n_estimators=400, score=0.835, total=   0.9s\n",
      "[CV] criterion=gini, max_depth=5, n_estimators=400 ...................\n",
      "[CV]  criterion=gini, max_depth=5, n_estimators=400, score=0.815, total=   1.0s\n",
      "[CV] criterion=gini, max_depth=7, n_estimators=100 ...................\n",
      "[CV]  criterion=gini, max_depth=7, n_estimators=100, score=0.850, total=   0.3s\n",
      "[CV] criterion=gini, max_depth=7, n_estimators=100 ...................\n",
      "[CV]  criterion=gini, max_depth=7, n_estimators=100, score=0.865, total=   0.3s\n",
      "[CV] criterion=gini, max_depth=7, n_estimators=100 ...................\n",
      "[CV]  criterion=gini, max_depth=7, n_estimators=100, score=0.880, total=   0.4s\n",
      "[CV] criterion=gini, max_depth=7, n_estimators=100 ...................\n",
      "[CV]  criterion=gini, max_depth=7, n_estimators=100, score=0.855, total=   0.3s\n",
      "[CV] criterion=gini, max_depth=7, n_estimators=100 ...................\n"
     ]
    },
    {
     "name": "stdout",
     "output_type": "stream",
     "text": [
      "[CV]  criterion=gini, max_depth=7, n_estimators=100, score=0.840, total=   0.3s\n",
      "[CV] criterion=gini, max_depth=7, n_estimators=200 ...................\n",
      "[CV]  criterion=gini, max_depth=7, n_estimators=200, score=0.853, total=   0.6s\n",
      "[CV] criterion=gini, max_depth=7, n_estimators=200 ...................\n",
      "[CV]  criterion=gini, max_depth=7, n_estimators=200, score=0.870, total=   0.5s\n",
      "[CV] criterion=gini, max_depth=7, n_estimators=200 ...................\n",
      "[CV]  criterion=gini, max_depth=7, n_estimators=200, score=0.875, total=   0.6s\n",
      "[CV] criterion=gini, max_depth=7, n_estimators=200 ...................\n",
      "[CV]  criterion=gini, max_depth=7, n_estimators=200, score=0.865, total=   0.5s\n",
      "[CV] criterion=gini, max_depth=7, n_estimators=200 ...................\n",
      "[CV]  criterion=gini, max_depth=7, n_estimators=200, score=0.835, total=   0.5s\n",
      "[CV] criterion=gini, max_depth=7, n_estimators=300 ...................\n",
      "[CV]  criterion=gini, max_depth=7, n_estimators=300, score=0.868, total=   0.8s\n",
      "[CV] criterion=gini, max_depth=7, n_estimators=300 ...................\n",
      "[CV]  criterion=gini, max_depth=7, n_estimators=300, score=0.880, total=   0.8s\n",
      "[CV] criterion=gini, max_depth=7, n_estimators=300 ...................\n",
      "[CV]  criterion=gini, max_depth=7, n_estimators=300, score=0.887, total=   0.9s\n",
      "[CV] criterion=gini, max_depth=7, n_estimators=300 ...................\n",
      "[CV]  criterion=gini, max_depth=7, n_estimators=300, score=0.855, total=   0.9s\n",
      "[CV] criterion=gini, max_depth=7, n_estimators=300 ...................\n",
      "[CV]  criterion=gini, max_depth=7, n_estimators=300, score=0.850, total=   1.0s\n",
      "[CV] criterion=gini, max_depth=7, n_estimators=400 ...................\n",
      "[CV]  criterion=gini, max_depth=7, n_estimators=400, score=0.860, total=   1.1s\n",
      "[CV] criterion=gini, max_depth=7, n_estimators=400 ...................\n",
      "[CV]  criterion=gini, max_depth=7, n_estimators=400, score=0.870, total=   1.0s\n",
      "[CV] criterion=gini, max_depth=7, n_estimators=400 ...................\n",
      "[CV]  criterion=gini, max_depth=7, n_estimators=400, score=0.890, total=   0.9s\n",
      "[CV] criterion=gini, max_depth=7, n_estimators=400 ...................\n",
      "[CV]  criterion=gini, max_depth=7, n_estimators=400, score=0.865, total=   0.9s\n",
      "[CV] criterion=gini, max_depth=7, n_estimators=400 ...................\n",
      "[CV]  criterion=gini, max_depth=7, n_estimators=400, score=0.855, total=   0.9s\n",
      "[CV] criterion=entropy, max_depth=1, n_estimators=100 ................\n",
      "[CV]  criterion=entropy, max_depth=1, n_estimators=100, score=0.555, total=   0.3s\n",
      "[CV] criterion=entropy, max_depth=1, n_estimators=100 ................\n",
      "[CV]  criterion=entropy, max_depth=1, n_estimators=100, score=0.540, total=   0.3s\n",
      "[CV] criterion=entropy, max_depth=1, n_estimators=100 ................\n",
      "[CV]  criterion=entropy, max_depth=1, n_estimators=100, score=0.552, total=   0.3s\n",
      "[CV] criterion=entropy, max_depth=1, n_estimators=100 ................\n",
      "[CV]  criterion=entropy, max_depth=1, n_estimators=100, score=0.580, total=   0.3s\n",
      "[CV] criterion=entropy, max_depth=1, n_estimators=100 ................\n",
      "[CV]  criterion=entropy, max_depth=1, n_estimators=100, score=0.522, total=   0.3s\n",
      "[CV] criterion=entropy, max_depth=1, n_estimators=200 ................\n",
      "[CV]  criterion=entropy, max_depth=1, n_estimators=200, score=0.585, total=   0.5s\n",
      "[CV] criterion=entropy, max_depth=1, n_estimators=200 ................\n",
      "[CV]  criterion=entropy, max_depth=1, n_estimators=200, score=0.560, total=   0.5s\n",
      "[CV] criterion=entropy, max_depth=1, n_estimators=200 ................\n",
      "[CV]  criterion=entropy, max_depth=1, n_estimators=200, score=0.570, total=   0.5s\n",
      "[CV] criterion=entropy, max_depth=1, n_estimators=200 ................\n",
      "[CV]  criterion=entropy, max_depth=1, n_estimators=200, score=0.583, total=   0.5s\n",
      "[CV] criterion=entropy, max_depth=1, n_estimators=200 ................\n",
      "[CV]  criterion=entropy, max_depth=1, n_estimators=200, score=0.555, total=   0.5s\n",
      "[CV] criterion=entropy, max_depth=1, n_estimators=300 ................\n",
      "[CV]  criterion=entropy, max_depth=1, n_estimators=300, score=0.583, total=   0.7s\n",
      "[CV] criterion=entropy, max_depth=1, n_estimators=300 ................\n",
      "[CV]  criterion=entropy, max_depth=1, n_estimators=300, score=0.557, total=   0.7s\n",
      "[CV] criterion=entropy, max_depth=1, n_estimators=300 ................\n",
      "[CV]  criterion=entropy, max_depth=1, n_estimators=300, score=0.565, total=   0.7s\n",
      "[CV] criterion=entropy, max_depth=1, n_estimators=300 ................\n",
      "[CV]  criterion=entropy, max_depth=1, n_estimators=300, score=0.585, total=   0.7s\n",
      "[CV] criterion=entropy, max_depth=1, n_estimators=300 ................\n",
      "[CV]  criterion=entropy, max_depth=1, n_estimators=300, score=0.562, total=   0.7s\n",
      "[CV] criterion=entropy, max_depth=1, n_estimators=400 ................\n",
      "[CV]  criterion=entropy, max_depth=1, n_estimators=400, score=0.573, total=   0.8s\n",
      "[CV] criterion=entropy, max_depth=1, n_estimators=400 ................\n",
      "[CV]  criterion=entropy, max_depth=1, n_estimators=400, score=0.552, total=   0.8s\n",
      "[CV] criterion=entropy, max_depth=1, n_estimators=400 ................\n",
      "[CV]  criterion=entropy, max_depth=1, n_estimators=400, score=0.555, total=   0.8s\n",
      "[CV] criterion=entropy, max_depth=1, n_estimators=400 ................\n",
      "[CV]  criterion=entropy, max_depth=1, n_estimators=400, score=0.580, total=   0.8s\n",
      "[CV] criterion=entropy, max_depth=1, n_estimators=400 ................\n",
      "[CV]  criterion=entropy, max_depth=1, n_estimators=400, score=0.540, total=   0.8s\n",
      "[CV] criterion=entropy, max_depth=3, n_estimators=100 ................\n",
      "[CV]  criterion=entropy, max_depth=3, n_estimators=100, score=0.807, total=   0.3s\n",
      "[CV] criterion=entropy, max_depth=3, n_estimators=100 ................\n",
      "[CV]  criterion=entropy, max_depth=3, n_estimators=100, score=0.772, total=   0.3s\n",
      "[CV] criterion=entropy, max_depth=3, n_estimators=100 ................\n",
      "[CV]  criterion=entropy, max_depth=3, n_estimators=100, score=0.805, total=   0.3s\n",
      "[CV] criterion=entropy, max_depth=3, n_estimators=100 ................\n",
      "[CV]  criterion=entropy, max_depth=3, n_estimators=100, score=0.762, total=   0.3s\n",
      "[CV] criterion=entropy, max_depth=3, n_estimators=100 ................\n",
      "[CV]  criterion=entropy, max_depth=3, n_estimators=100, score=0.735, total=   0.3s\n",
      "[CV] criterion=entropy, max_depth=3, n_estimators=200 ................\n",
      "[CV]  criterion=entropy, max_depth=3, n_estimators=200, score=0.780, total=   0.5s\n",
      "[CV] criterion=entropy, max_depth=3, n_estimators=200 ................\n",
      "[CV]  criterion=entropy, max_depth=3, n_estimators=200, score=0.787, total=   0.5s\n",
      "[CV] criterion=entropy, max_depth=3, n_estimators=200 ................\n",
      "[CV]  criterion=entropy, max_depth=3, n_estimators=200, score=0.777, total=   0.5s\n",
      "[CV] criterion=entropy, max_depth=3, n_estimators=200 ................\n",
      "[CV]  criterion=entropy, max_depth=3, n_estimators=200, score=0.775, total=   0.6s\n",
      "[CV] criterion=entropy, max_depth=3, n_estimators=200 ................\n",
      "[CV]  criterion=entropy, max_depth=3, n_estimators=200, score=0.730, total=   0.5s\n",
      "[CV] criterion=entropy, max_depth=3, n_estimators=300 ................\n",
      "[CV]  criterion=entropy, max_depth=3, n_estimators=300, score=0.792, total=   0.7s\n",
      "[CV] criterion=entropy, max_depth=3, n_estimators=300 ................\n",
      "[CV]  criterion=entropy, max_depth=3, n_estimators=300, score=0.775, total=   0.7s\n",
      "[CV] criterion=entropy, max_depth=3, n_estimators=300 ................\n",
      "[CV]  criterion=entropy, max_depth=3, n_estimators=300, score=0.785, total=   0.8s\n",
      "[CV] criterion=entropy, max_depth=3, n_estimators=300 ................\n",
      "[CV]  criterion=entropy, max_depth=3, n_estimators=300, score=0.805, total=   0.8s\n",
      "[CV] criterion=entropy, max_depth=3, n_estimators=300 ................\n",
      "[CV]  criterion=entropy, max_depth=3, n_estimators=300, score=0.790, total=   0.8s\n",
      "[CV] criterion=entropy, max_depth=3, n_estimators=400 ................\n",
      "[CV]  criterion=entropy, max_depth=3, n_estimators=400, score=0.782, total=   0.9s\n",
      "[CV] criterion=entropy, max_depth=3, n_estimators=400 ................\n",
      "[CV]  criterion=entropy, max_depth=3, n_estimators=400, score=0.757, total=   0.9s\n",
      "[CV] criterion=entropy, max_depth=3, n_estimators=400 ................\n",
      "[CV]  criterion=entropy, max_depth=3, n_estimators=400, score=0.785, total=   0.9s\n",
      "[CV] criterion=entropy, max_depth=3, n_estimators=400 ................\n"
     ]
    },
    {
     "name": "stdout",
     "output_type": "stream",
     "text": [
      "[CV]  criterion=entropy, max_depth=3, n_estimators=400, score=0.818, total=   0.9s\n",
      "[CV] criterion=entropy, max_depth=3, n_estimators=400 ................\n",
      "[CV]  criterion=entropy, max_depth=3, n_estimators=400, score=0.745, total=   0.9s\n",
      "[CV] criterion=entropy, max_depth=5, n_estimators=100 ................\n",
      "[CV]  criterion=entropy, max_depth=5, n_estimators=100, score=0.835, total=   0.3s\n",
      "[CV] criterion=entropy, max_depth=5, n_estimators=100 ................\n",
      "[CV]  criterion=entropy, max_depth=5, n_estimators=100, score=0.828, total=   0.3s\n",
      "[CV] criterion=entropy, max_depth=5, n_estimators=100 ................\n",
      "[CV]  criterion=entropy, max_depth=5, n_estimators=100, score=0.823, total=   0.3s\n",
      "[CV] criterion=entropy, max_depth=5, n_estimators=100 ................\n",
      "[CV]  criterion=entropy, max_depth=5, n_estimators=100, score=0.830, total=   0.3s\n",
      "[CV] criterion=entropy, max_depth=5, n_estimators=100 ................\n",
      "[CV]  criterion=entropy, max_depth=5, n_estimators=100, score=0.825, total=   0.3s\n",
      "[CV] criterion=entropy, max_depth=5, n_estimators=200 ................\n",
      "[CV]  criterion=entropy, max_depth=5, n_estimators=200, score=0.830, total=   0.5s\n",
      "[CV] criterion=entropy, max_depth=5, n_estimators=200 ................\n",
      "[CV]  criterion=entropy, max_depth=5, n_estimators=200, score=0.848, total=   0.6s\n",
      "[CV] criterion=entropy, max_depth=5, n_estimators=200 ................\n",
      "[CV]  criterion=entropy, max_depth=5, n_estimators=200, score=0.858, total=   0.5s\n",
      "[CV] criterion=entropy, max_depth=5, n_estimators=200 ................\n",
      "[CV]  criterion=entropy, max_depth=5, n_estimators=200, score=0.840, total=   0.5s\n",
      "[CV] criterion=entropy, max_depth=5, n_estimators=200 ................\n",
      "[CV]  criterion=entropy, max_depth=5, n_estimators=200, score=0.823, total=   0.5s\n",
      "[CV] criterion=entropy, max_depth=5, n_estimators=300 ................\n",
      "[CV]  criterion=entropy, max_depth=5, n_estimators=300, score=0.830, total=   0.7s\n",
      "[CV] criterion=entropy, max_depth=5, n_estimators=300 ................\n",
      "[CV]  criterion=entropy, max_depth=5, n_estimators=300, score=0.855, total=   0.8s\n",
      "[CV] criterion=entropy, max_depth=5, n_estimators=300 ................\n",
      "[CV]  criterion=entropy, max_depth=5, n_estimators=300, score=0.850, total=   0.7s\n",
      "[CV] criterion=entropy, max_depth=5, n_estimators=300 ................\n",
      "[CV]  criterion=entropy, max_depth=5, n_estimators=300, score=0.838, total=   0.7s\n",
      "[CV] criterion=entropy, max_depth=5, n_estimators=300 ................\n",
      "[CV]  criterion=entropy, max_depth=5, n_estimators=300, score=0.835, total=   0.9s\n",
      "[CV] criterion=entropy, max_depth=5, n_estimators=400 ................\n",
      "[CV]  criterion=entropy, max_depth=5, n_estimators=400, score=0.840, total=   1.0s\n",
      "[CV] criterion=entropy, max_depth=5, n_estimators=400 ................\n",
      "[CV]  criterion=entropy, max_depth=5, n_estimators=400, score=0.830, total=   1.0s\n",
      "[CV] criterion=entropy, max_depth=5, n_estimators=400 ................\n",
      "[CV]  criterion=entropy, max_depth=5, n_estimators=400, score=0.863, total=   1.0s\n",
      "[CV] criterion=entropy, max_depth=5, n_estimators=400 ................\n",
      "[CV]  criterion=entropy, max_depth=5, n_estimators=400, score=0.843, total=   1.0s\n",
      "[CV] criterion=entropy, max_depth=5, n_estimators=400 ................\n",
      "[CV]  criterion=entropy, max_depth=5, n_estimators=400, score=0.833, total=   0.9s\n",
      "[CV] criterion=entropy, max_depth=7, n_estimators=100 ................\n",
      "[CV]  criterion=entropy, max_depth=7, n_estimators=100, score=0.835, total=   0.3s\n",
      "[CV] criterion=entropy, max_depth=7, n_estimators=100 ................\n",
      "[CV]  criterion=entropy, max_depth=7, n_estimators=100, score=0.830, total=   0.3s\n",
      "[CV] criterion=entropy, max_depth=7, n_estimators=100 ................\n",
      "[CV]  criterion=entropy, max_depth=7, n_estimators=100, score=0.882, total=   0.4s\n",
      "[CV] criterion=entropy, max_depth=7, n_estimators=100 ................\n",
      "[CV]  criterion=entropy, max_depth=7, n_estimators=100, score=0.858, total=   0.3s\n",
      "[CV] criterion=entropy, max_depth=7, n_estimators=100 ................\n",
      "[CV]  criterion=entropy, max_depth=7, n_estimators=100, score=0.843, total=   0.3s\n",
      "[CV] criterion=entropy, max_depth=7, n_estimators=200 ................\n",
      "[CV]  criterion=entropy, max_depth=7, n_estimators=200, score=0.873, total=   0.6s\n",
      "[CV] criterion=entropy, max_depth=7, n_estimators=200 ................\n",
      "[CV]  criterion=entropy, max_depth=7, n_estimators=200, score=0.870, total=   0.5s\n",
      "[CV] criterion=entropy, max_depth=7, n_estimators=200 ................\n",
      "[CV]  criterion=entropy, max_depth=7, n_estimators=200, score=0.880, total=   0.6s\n",
      "[CV] criterion=entropy, max_depth=7, n_estimators=200 ................\n",
      "[CV]  criterion=entropy, max_depth=7, n_estimators=200, score=0.873, total=   0.6s\n",
      "[CV] criterion=entropy, max_depth=7, n_estimators=200 ................\n",
      "[CV]  criterion=entropy, max_depth=7, n_estimators=200, score=0.858, total=   0.5s\n",
      "[CV] criterion=entropy, max_depth=7, n_estimators=300 ................\n",
      "[CV]  criterion=entropy, max_depth=7, n_estimators=300, score=0.868, total=   0.8s\n",
      "[CV] criterion=entropy, max_depth=7, n_estimators=300 ................\n",
      "[CV]  criterion=entropy, max_depth=7, n_estimators=300, score=0.870, total=   0.8s\n",
      "[CV] criterion=entropy, max_depth=7, n_estimators=300 ................\n",
      "[CV]  criterion=entropy, max_depth=7, n_estimators=300, score=0.890, total=   0.8s\n",
      "[CV] criterion=entropy, max_depth=7, n_estimators=300 ................\n",
      "[CV]  criterion=entropy, max_depth=7, n_estimators=300, score=0.848, total=   0.8s\n",
      "[CV] criterion=entropy, max_depth=7, n_estimators=300 ................\n",
      "[CV]  criterion=entropy, max_depth=7, n_estimators=300, score=0.853, total=   0.8s\n",
      "[CV] criterion=entropy, max_depth=7, n_estimators=400 ................\n",
      "[CV]  criterion=entropy, max_depth=7, n_estimators=400, score=0.860, total=   1.1s\n",
      "[CV] criterion=entropy, max_depth=7, n_estimators=400 ................\n",
      "[CV]  criterion=entropy, max_depth=7, n_estimators=400, score=0.868, total=   1.0s\n",
      "[CV] criterion=entropy, max_depth=7, n_estimators=400 ................\n",
      "[CV]  criterion=entropy, max_depth=7, n_estimators=400, score=0.890, total=   1.0s\n",
      "[CV] criterion=entropy, max_depth=7, n_estimators=400 ................\n",
      "[CV]  criterion=entropy, max_depth=7, n_estimators=400, score=0.855, total=   1.0s\n",
      "[CV] criterion=entropy, max_depth=7, n_estimators=400 ................\n",
      "[CV]  criterion=entropy, max_depth=7, n_estimators=400, score=0.855, total=   1.0s\n"
     ]
    },
    {
     "name": "stderr",
     "output_type": "stream",
     "text": [
      "[Parallel(n_jobs=1)]: Done 160 out of 160 | elapsed:  1.7min finished\n"
     ]
    },
    {
     "data": {
      "text/plain": [
       "GridSearchCV(cv=5, estimator=RandomForestClassifier(n_jobs=-1), n_jobs=1,\n",
       "             param_grid={'criterion': ['gini', 'entropy'],\n",
       "                         'max_depth': [1, 3, 5, 7],\n",
       "                         'n_estimators': [100, 200, 300, 400]},\n",
       "             scoring='accuracy', verbose=10)"
      ]
     },
     "execution_count": 18,
     "metadata": {},
     "output_type": "execute_result"
    }
   ],
   "source": [
    "model.fit(x,y)"
   ]
  },
  {
   "cell_type": "code",
   "execution_count": 21,
   "metadata": {},
   "outputs": [
    {
     "name": "stdout",
     "output_type": "stream",
     "text": [
      "0.8705\n",
      "{'bootstrap': True, 'ccp_alpha': 0.0, 'class_weight': None, 'criterion': 'entropy', 'max_depth': 7, 'max_features': 'auto', 'max_leaf_nodes': None, 'max_samples': None, 'min_impurity_decrease': 0.0, 'min_impurity_split': None, 'min_samples_leaf': 1, 'min_samples_split': 2, 'min_weight_fraction_leaf': 0.0, 'n_estimators': 200, 'n_jobs': -1, 'oob_score': False, 'random_state': None, 'verbose': 0, 'warm_start': False}\n"
     ]
    }
   ],
   "source": [
    "print(model.best_score_)\n",
    "print(model.best_estimator_.get_params())"
   ]
  },
  {
   "cell_type": "code",
   "execution_count": 23,
   "metadata": {},
   "outputs": [],
   "source": [
    "models=model_selection.RandomizedSearchCV(estimator=classifier,param_distributions=param_grid,\n",
    "                                        n_iter=10,scoring='accuracy',verbose=10,n_jobs=1,cv=5)"
   ]
  },
  {
   "cell_type": "code",
   "execution_count": 24,
   "metadata": {},
   "outputs": [
    {
     "name": "stdout",
     "output_type": "stream",
     "text": [
      "Fitting 5 folds for each of 10 candidates, totalling 50 fits\n",
      "[CV] n_estimators=300, max_depth=1, criterion=gini ...................\n"
     ]
    },
    {
     "name": "stderr",
     "output_type": "stream",
     "text": [
      "[Parallel(n_jobs=1)]: Using backend SequentialBackend with 1 concurrent workers.\n"
     ]
    },
    {
     "name": "stdout",
     "output_type": "stream",
     "text": [
      "[CV]  n_estimators=300, max_depth=1, criterion=gini, score=0.588, total=   3.5s\n",
      "[CV] n_estimators=300, max_depth=1, criterion=gini ...................\n"
     ]
    },
    {
     "name": "stderr",
     "output_type": "stream",
     "text": [
      "[Parallel(n_jobs=1)]: Done   1 out of   1 | elapsed:    3.4s remaining:    0.0s\n"
     ]
    },
    {
     "name": "stdout",
     "output_type": "stream",
     "text": [
      "[CV]  n_estimators=300, max_depth=1, criterion=gini, score=0.590, total=   0.8s\n",
      "[CV] n_estimators=300, max_depth=1, criterion=gini ...................\n"
     ]
    },
    {
     "name": "stderr",
     "output_type": "stream",
     "text": [
      "[Parallel(n_jobs=1)]: Done   2 out of   2 | elapsed:    4.2s remaining:    0.0s\n"
     ]
    },
    {
     "name": "stdout",
     "output_type": "stream",
     "text": [
      "[CV]  n_estimators=300, max_depth=1, criterion=gini, score=0.608, total=   0.9s\n",
      "[CV] n_estimators=300, max_depth=1, criterion=gini ...................\n"
     ]
    },
    {
     "name": "stderr",
     "output_type": "stream",
     "text": [
      "[Parallel(n_jobs=1)]: Done   3 out of   3 | elapsed:    5.1s remaining:    0.0s\n"
     ]
    },
    {
     "name": "stdout",
     "output_type": "stream",
     "text": [
      "[CV]  n_estimators=300, max_depth=1, criterion=gini, score=0.605, total=   0.7s\n",
      "[CV] n_estimators=300, max_depth=1, criterion=gini ...................\n"
     ]
    },
    {
     "name": "stderr",
     "output_type": "stream",
     "text": [
      "[Parallel(n_jobs=1)]: Done   4 out of   4 | elapsed:    5.7s remaining:    0.0s\n"
     ]
    },
    {
     "name": "stdout",
     "output_type": "stream",
     "text": [
      "[CV]  n_estimators=300, max_depth=1, criterion=gini, score=0.580, total=   0.7s\n",
      "[CV] n_estimators=400, max_depth=3, criterion=entropy ................\n"
     ]
    },
    {
     "name": "stderr",
     "output_type": "stream",
     "text": [
      "[Parallel(n_jobs=1)]: Done   5 out of   5 | elapsed:    6.5s remaining:    0.0s\n"
     ]
    },
    {
     "name": "stdout",
     "output_type": "stream",
     "text": [
      "[CV]  n_estimators=400, max_depth=3, criterion=entropy, score=0.767, total=   0.9s\n",
      "[CV] n_estimators=400, max_depth=3, criterion=entropy ................\n"
     ]
    },
    {
     "name": "stderr",
     "output_type": "stream",
     "text": [
      "[Parallel(n_jobs=1)]: Done   6 out of   6 | elapsed:    7.4s remaining:    0.0s\n"
     ]
    },
    {
     "name": "stdout",
     "output_type": "stream",
     "text": [
      "[CV]  n_estimators=400, max_depth=3, criterion=entropy, score=0.790, total=   0.9s\n",
      "[CV] n_estimators=400, max_depth=3, criterion=entropy ................\n"
     ]
    },
    {
     "name": "stderr",
     "output_type": "stream",
     "text": [
      "[Parallel(n_jobs=1)]: Done   7 out of   7 | elapsed:    8.3s remaining:    0.0s\n"
     ]
    },
    {
     "name": "stdout",
     "output_type": "stream",
     "text": [
      "[CV]  n_estimators=400, max_depth=3, criterion=entropy, score=0.802, total=   0.8s\n",
      "[CV] n_estimators=400, max_depth=3, criterion=entropy ................\n"
     ]
    },
    {
     "name": "stderr",
     "output_type": "stream",
     "text": [
      "[Parallel(n_jobs=1)]: Done   8 out of   8 | elapsed:    9.1s remaining:    0.0s\n"
     ]
    },
    {
     "name": "stdout",
     "output_type": "stream",
     "text": [
      "[CV]  n_estimators=400, max_depth=3, criterion=entropy, score=0.800, total=   0.8s\n",
      "[CV] n_estimators=400, max_depth=3, criterion=entropy ................\n"
     ]
    },
    {
     "name": "stderr",
     "output_type": "stream",
     "text": [
      "[Parallel(n_jobs=1)]: Done   9 out of   9 | elapsed:   10.0s remaining:    0.0s\n"
     ]
    },
    {
     "name": "stdout",
     "output_type": "stream",
     "text": [
      "[CV]  n_estimators=400, max_depth=3, criterion=entropy, score=0.777, total=   0.9s\n",
      "[CV] n_estimators=100, max_depth=3, criterion=gini ...................\n",
      "[CV]  n_estimators=100, max_depth=3, criterion=gini, score=0.815, total=   0.3s\n",
      "[CV] n_estimators=100, max_depth=3, criterion=gini ...................\n",
      "[CV]  n_estimators=100, max_depth=3, criterion=gini, score=0.785, total=   0.3s\n",
      "[CV] n_estimators=100, max_depth=3, criterion=gini ...................\n",
      "[CV]  n_estimators=100, max_depth=3, criterion=gini, score=0.815, total=   0.3s\n",
      "[CV] n_estimators=100, max_depth=3, criterion=gini ...................\n",
      "[CV]  n_estimators=100, max_depth=3, criterion=gini, score=0.805, total=   0.3s\n",
      "[CV] n_estimators=100, max_depth=3, criterion=gini ...................\n",
      "[CV]  n_estimators=100, max_depth=3, criterion=gini, score=0.782, total=   0.3s\n",
      "[CV] n_estimators=100, max_depth=3, criterion=entropy ................\n",
      "[CV]  n_estimators=100, max_depth=3, criterion=entropy, score=0.733, total=   0.3s\n",
      "[CV] n_estimators=100, max_depth=3, criterion=entropy ................\n",
      "[CV]  n_estimators=100, max_depth=3, criterion=entropy, score=0.775, total=   0.3s\n",
      "[CV] n_estimators=100, max_depth=3, criterion=entropy ................\n",
      "[CV]  n_estimators=100, max_depth=3, criterion=entropy, score=0.807, total=   0.3s\n",
      "[CV] n_estimators=100, max_depth=3, criterion=entropy ................\n",
      "[CV]  n_estimators=100, max_depth=3, criterion=entropy, score=0.760, total=   0.3s\n",
      "[CV] n_estimators=100, max_depth=3, criterion=entropy ................\n",
      "[CV]  n_estimators=100, max_depth=3, criterion=entropy, score=0.782, total=   0.3s\n",
      "[CV] n_estimators=300, max_depth=5, criterion=entropy ................\n",
      "[CV]  n_estimators=300, max_depth=5, criterion=entropy, score=0.820, total=   0.7s\n",
      "[CV] n_estimators=300, max_depth=5, criterion=entropy ................\n",
      "[CV]  n_estimators=300, max_depth=5, criterion=entropy, score=0.840, total=   0.8s\n",
      "[CV] n_estimators=300, max_depth=5, criterion=entropy ................\n",
      "[CV]  n_estimators=300, max_depth=5, criterion=entropy, score=0.865, total=   0.8s\n",
      "[CV] n_estimators=300, max_depth=5, criterion=entropy ................\n",
      "[CV]  n_estimators=300, max_depth=5, criterion=entropy, score=0.838, total=   0.7s\n",
      "[CV] n_estimators=300, max_depth=5, criterion=entropy ................\n",
      "[CV]  n_estimators=300, max_depth=5, criterion=entropy, score=0.853, total=   0.8s\n",
      "[CV] n_estimators=400, max_depth=7, criterion=entropy ................\n",
      "[CV]  n_estimators=400, max_depth=7, criterion=entropy, score=0.870, total=   1.0s\n",
      "[CV] n_estimators=400, max_depth=7, criterion=entropy ................\n",
      "[CV]  n_estimators=400, max_depth=7, criterion=entropy, score=0.873, total=   1.0s\n",
      "[CV] n_estimators=400, max_depth=7, criterion=entropy ................\n",
      "[CV]  n_estimators=400, max_depth=7, criterion=entropy, score=0.905, total=   1.0s\n",
      "[CV] n_estimators=400, max_depth=7, criterion=entropy ................\n",
      "[CV]  n_estimators=400, max_depth=7, criterion=entropy, score=0.858, total=   1.0s\n",
      "[CV] n_estimators=400, max_depth=7, criterion=entropy ................\n",
      "[CV]  n_estimators=400, max_depth=7, criterion=entropy, score=0.853, total=   1.0s\n",
      "[CV] n_estimators=400, max_depth=1, criterion=entropy ................\n",
      "[CV]  n_estimators=400, max_depth=1, criterion=entropy, score=0.585, total=   1.0s\n",
      "[CV] n_estimators=400, max_depth=1, criterion=entropy ................\n",
      "[CV]  n_estimators=400, max_depth=1, criterion=entropy, score=0.550, total=   0.9s\n",
      "[CV] n_estimators=400, max_depth=1, criterion=entropy ................\n",
      "[CV]  n_estimators=400, max_depth=1, criterion=entropy, score=0.552, total=   0.8s\n",
      "[CV] n_estimators=400, max_depth=1, criterion=entropy ................\n",
      "[CV]  n_estimators=400, max_depth=1, criterion=entropy, score=0.562, total=   0.8s\n",
      "[CV] n_estimators=400, max_depth=1, criterion=entropy ................\n",
      "[CV]  n_estimators=400, max_depth=1, criterion=entropy, score=0.550, total=   0.8s\n",
      "[CV] n_estimators=300, max_depth=7, criterion=entropy ................\n",
      "[CV]  n_estimators=300, max_depth=7, criterion=entropy, score=0.865, total=   0.8s\n",
      "[CV] n_estimators=300, max_depth=7, criterion=entropy ................\n",
      "[CV]  n_estimators=300, max_depth=7, criterion=entropy, score=0.863, total=   0.8s\n",
      "[CV] n_estimators=300, max_depth=7, criterion=entropy ................\n",
      "[CV]  n_estimators=300, max_depth=7, criterion=entropy, score=0.895, total=   0.8s\n",
      "[CV] n_estimators=300, max_depth=7, criterion=entropy ................\n",
      "[CV]  n_estimators=300, max_depth=7, criterion=entropy, score=0.858, total=   0.8s\n",
      "[CV] n_estimators=300, max_depth=7, criterion=entropy ................\n",
      "[CV]  n_estimators=300, max_depth=7, criterion=entropy, score=0.840, total=   0.8s\n",
      "[CV] n_estimators=200, max_depth=7, criterion=gini ...................\n",
      "[CV]  n_estimators=200, max_depth=7, criterion=gini, score=0.877, total=   0.5s\n",
      "[CV] n_estimators=200, max_depth=7, criterion=gini ...................\n",
      "[CV]  n_estimators=200, max_depth=7, criterion=gini, score=0.875, total=   0.5s\n",
      "[CV] n_estimators=200, max_depth=7, criterion=gini ...................\n",
      "[CV]  n_estimators=200, max_depth=7, criterion=gini, score=0.890, total=   0.5s\n",
      "[CV] n_estimators=200, max_depth=7, criterion=gini ...................\n",
      "[CV]  n_estimators=200, max_depth=7, criterion=gini, score=0.853, total=   0.5s\n",
      "[CV] n_estimators=200, max_depth=7, criterion=gini ...................\n",
      "[CV]  n_estimators=200, max_depth=7, criterion=gini, score=0.850, total=   0.5s\n",
      "[CV] n_estimators=100, max_depth=1, criterion=gini ...................\n",
      "[CV]  n_estimators=100, max_depth=1, criterion=gini, score=0.593, total=   0.3s\n",
      "[CV] n_estimators=100, max_depth=1, criterion=gini ...................\n",
      "[CV]  n_estimators=100, max_depth=1, criterion=gini, score=0.555, total=   0.3s\n",
      "[CV] n_estimators=100, max_depth=1, criterion=gini ...................\n",
      "[CV]  n_estimators=100, max_depth=1, criterion=gini, score=0.618, total=   0.3s\n",
      "[CV] n_estimators=100, max_depth=1, criterion=gini ...................\n",
      "[CV]  n_estimators=100, max_depth=1, criterion=gini, score=0.608, total=   0.3s\n",
      "[CV] n_estimators=100, max_depth=1, criterion=gini ...................\n",
      "[CV]  n_estimators=100, max_depth=1, criterion=gini, score=0.575, total=   0.3s\n"
     ]
    },
    {
     "name": "stderr",
     "output_type": "stream",
     "text": [
      "[Parallel(n_jobs=1)]: Done  50 out of  50 | elapsed:   34.6s finished\n"
     ]
    },
    {
     "data": {
      "text/plain": [
       "RandomizedSearchCV(cv=5, estimator=RandomForestClassifier(n_jobs=-1), n_jobs=1,\n",
       "                   param_distributions={'criterion': ['gini', 'entropy'],\n",
       "                                        'max_depth': [1, 3, 5, 7],\n",
       "                                        'n_estimators': [100, 200, 300, 400]},\n",
       "                   scoring='accuracy', verbose=10)"
      ]
     },
     "execution_count": 24,
     "metadata": {},
     "output_type": "execute_result"
    }
   ],
   "source": [
    "models.fit(x,y)"
   ]
  },
  {
   "cell_type": "code",
   "execution_count": 26,
   "metadata": {},
   "outputs": [
    {
     "name": "stdout",
     "output_type": "stream",
     "text": [
      "0.8714999999999999\n",
      "{'bootstrap': True, 'ccp_alpha': 0.0, 'class_weight': None, 'criterion': 'entropy', 'max_depth': 7, 'max_features': 'auto', 'max_leaf_nodes': None, 'max_samples': None, 'min_impurity_decrease': 0.0, 'min_impurity_split': None, 'min_samples_leaf': 1, 'min_samples_split': 2, 'min_weight_fraction_leaf': 0.0, 'n_estimators': 400, 'n_jobs': -1, 'oob_score': False, 'random_state': None, 'verbose': 0, 'warm_start': False}\n"
     ]
    }
   ],
   "source": [
    "print(models.best_score_)\n",
    "print(models.best_estimator_.get_params())"
   ]
  },
  {
   "cell_type": "code",
   "execution_count": 48,
   "metadata": {},
   "outputs": [],
   "source": [
    "from sklearn import preprocessing \n",
    "from sklearn import decomposition\n",
    "from sklearn import pipeline"
   ]
  },
  {
   "cell_type": "code",
   "execution_count": 57,
   "metadata": {},
   "outputs": [],
   "source": [
    "ssl=preprocessing.StandardScaler()\n",
    "pca=decomposition.PCA()\n",
    "rf=pipeline.Pipeline([(\"scaling\",ssl),(\"pca\",pca),(\"classifier\",classifier)])"
   ]
  },
  {
   "cell_type": "code",
   "execution_count": 58,
   "metadata": {},
   "outputs": [],
   "source": [
    "param_grid={\n",
    "    \"pca__n_components\":np.arange(5,10),\n",
    "    'classifier__n_estimators':np.arange(100,1500,100),\n",
    "    \"classifier__max_depth\":np.arange(1,20),\n",
    "    \"classifier__criterion\":['gini','entropy']\n",
    "}"
   ]
  },
  {
   "cell_type": "code",
   "execution_count": 59,
   "metadata": {},
   "outputs": [],
   "source": [
    "model3=model_selection.RandomizedSearchCV(estimator=rf,param_distributions=param_grid,\n",
    "                                         n_iter=10,scoring='accuracy',verbose=10,n_jobs=1,cv=5)"
   ]
  },
  {
   "cell_type": "code",
   "execution_count": 60,
   "metadata": {},
   "outputs": [
    {
     "name": "stdout",
     "output_type": "stream",
     "text": [
      "Fitting 5 folds for each of 10 candidates, totalling 50 fits\n",
      "[CV] pca__n_components=6, classifier__n_estimators=100, classifier__max_depth=5, classifier__criterion=gini \n"
     ]
    },
    {
     "name": "stderr",
     "output_type": "stream",
     "text": [
      "[Parallel(n_jobs=1)]: Using backend SequentialBackend with 1 concurrent workers.\n"
     ]
    },
    {
     "name": "stdout",
     "output_type": "stream",
     "text": [
      "[CV]  pca__n_components=6, classifier__n_estimators=100, classifier__max_depth=5, classifier__criterion=gini, score=0.378, total=   3.4s\n",
      "[CV] pca__n_components=6, classifier__n_estimators=100, classifier__max_depth=5, classifier__criterion=gini \n"
     ]
    },
    {
     "name": "stderr",
     "output_type": "stream",
     "text": [
      "[Parallel(n_jobs=1)]: Done   1 out of   1 | elapsed:    3.3s remaining:    0.0s\n"
     ]
    },
    {
     "name": "stdout",
     "output_type": "stream",
     "text": [
      "[CV]  pca__n_components=6, classifier__n_estimators=100, classifier__max_depth=5, classifier__criterion=gini, score=0.435, total=   0.3s\n",
      "[CV] pca__n_components=6, classifier__n_estimators=100, classifier__max_depth=5, classifier__criterion=gini \n"
     ]
    },
    {
     "name": "stderr",
     "output_type": "stream",
     "text": [
      "[Parallel(n_jobs=1)]: Done   2 out of   2 | elapsed:    3.6s remaining:    0.0s\n"
     ]
    },
    {
     "name": "stdout",
     "output_type": "stream",
     "text": [
      "[CV]  pca__n_components=6, classifier__n_estimators=100, classifier__max_depth=5, classifier__criterion=gini, score=0.410, total=   0.3s\n",
      "[CV] pca__n_components=6, classifier__n_estimators=100, classifier__max_depth=5, classifier__criterion=gini \n"
     ]
    },
    {
     "name": "stderr",
     "output_type": "stream",
     "text": [
      "[Parallel(n_jobs=1)]: Done   3 out of   3 | elapsed:    3.9s remaining:    0.0s\n"
     ]
    },
    {
     "name": "stdout",
     "output_type": "stream",
     "text": [
      "[CV]  pca__n_components=6, classifier__n_estimators=100, classifier__max_depth=5, classifier__criterion=gini, score=0.422, total=   0.3s\n",
      "[CV] pca__n_components=6, classifier__n_estimators=100, classifier__max_depth=5, classifier__criterion=gini \n"
     ]
    },
    {
     "name": "stderr",
     "output_type": "stream",
     "text": [
      "[Parallel(n_jobs=1)]: Done   4 out of   4 | elapsed:    4.2s remaining:    0.0s\n"
     ]
    },
    {
     "name": "stdout",
     "output_type": "stream",
     "text": [
      "[CV]  pca__n_components=6, classifier__n_estimators=100, classifier__max_depth=5, classifier__criterion=gini, score=0.365, total=   0.3s\n",
      "[CV] pca__n_components=6, classifier__n_estimators=1300, classifier__max_depth=16, classifier__criterion=gini \n"
     ]
    },
    {
     "name": "stderr",
     "output_type": "stream",
     "text": [
      "[Parallel(n_jobs=1)]: Done   5 out of   5 | elapsed:    4.5s remaining:    0.0s\n"
     ]
    },
    {
     "name": "stdout",
     "output_type": "stream",
     "text": [
      "[CV]  pca__n_components=6, classifier__n_estimators=1300, classifier__max_depth=16, classifier__criterion=gini, score=0.393, total=   3.4s\n",
      "[CV] pca__n_components=6, classifier__n_estimators=1300, classifier__max_depth=16, classifier__criterion=gini \n"
     ]
    },
    {
     "name": "stderr",
     "output_type": "stream",
     "text": [
      "[Parallel(n_jobs=1)]: Done   6 out of   6 | elapsed:    7.9s remaining:    0.0s\n"
     ]
    },
    {
     "name": "stdout",
     "output_type": "stream",
     "text": [
      "[CV]  pca__n_components=6, classifier__n_estimators=1300, classifier__max_depth=16, classifier__criterion=gini, score=0.412, total=   3.4s\n",
      "[CV] pca__n_components=6, classifier__n_estimators=1300, classifier__max_depth=16, classifier__criterion=gini \n"
     ]
    },
    {
     "name": "stderr",
     "output_type": "stream",
     "text": [
      "[Parallel(n_jobs=1)]: Done   7 out of   7 | elapsed:   11.3s remaining:    0.0s\n"
     ]
    },
    {
     "name": "stdout",
     "output_type": "stream",
     "text": [
      "[CV]  pca__n_components=6, classifier__n_estimators=1300, classifier__max_depth=16, classifier__criterion=gini, score=0.362, total=   3.3s\n",
      "[CV] pca__n_components=6, classifier__n_estimators=1300, classifier__max_depth=16, classifier__criterion=gini \n"
     ]
    },
    {
     "name": "stderr",
     "output_type": "stream",
     "text": [
      "[Parallel(n_jobs=1)]: Done   8 out of   8 | elapsed:   14.6s remaining:    0.0s\n"
     ]
    },
    {
     "name": "stdout",
     "output_type": "stream",
     "text": [
      "[CV]  pca__n_components=6, classifier__n_estimators=1300, classifier__max_depth=16, classifier__criterion=gini, score=0.417, total=   3.5s\n",
      "[CV] pca__n_components=6, classifier__n_estimators=1300, classifier__max_depth=16, classifier__criterion=gini \n"
     ]
    },
    {
     "name": "stderr",
     "output_type": "stream",
     "text": [
      "[Parallel(n_jobs=1)]: Done   9 out of   9 | elapsed:   18.2s remaining:    0.0s\n"
     ]
    },
    {
     "name": "stdout",
     "output_type": "stream",
     "text": [
      "[CV]  pca__n_components=6, classifier__n_estimators=1300, classifier__max_depth=16, classifier__criterion=gini, score=0.328, total=   3.6s\n",
      "[CV] pca__n_components=6, classifier__n_estimators=1100, classifier__max_depth=3, classifier__criterion=gini \n",
      "[CV]  pca__n_components=6, classifier__n_estimators=1100, classifier__max_depth=3, classifier__criterion=gini, score=0.405, total=   2.3s\n",
      "[CV] pca__n_components=6, classifier__n_estimators=1100, classifier__max_depth=3, classifier__criterion=gini \n",
      "[CV]  pca__n_components=6, classifier__n_estimators=1100, classifier__max_depth=3, classifier__criterion=gini, score=0.393, total=   2.1s\n",
      "[CV] pca__n_components=6, classifier__n_estimators=1100, classifier__max_depth=3, classifier__criterion=gini \n",
      "[CV]  pca__n_components=6, classifier__n_estimators=1100, classifier__max_depth=3, classifier__criterion=gini, score=0.403, total=   2.2s\n",
      "[CV] pca__n_components=6, classifier__n_estimators=1100, classifier__max_depth=3, classifier__criterion=gini \n",
      "[CV]  pca__n_components=6, classifier__n_estimators=1100, classifier__max_depth=3, classifier__criterion=gini, score=0.417, total=   2.1s\n",
      "[CV] pca__n_components=6, classifier__n_estimators=1100, classifier__max_depth=3, classifier__criterion=gini \n",
      "[CV]  pca__n_components=6, classifier__n_estimators=1100, classifier__max_depth=3, classifier__criterion=gini, score=0.388, total=   2.1s\n",
      "[CV] pca__n_components=6, classifier__n_estimators=900, classifier__max_depth=18, classifier__criterion=entropy \n",
      "[CV]  pca__n_components=6, classifier__n_estimators=900, classifier__max_depth=18, classifier__criterion=entropy, score=0.372, total=   3.2s\n",
      "[CV] pca__n_components=6, classifier__n_estimators=900, classifier__max_depth=18, classifier__criterion=entropy \n",
      "[CV]  pca__n_components=6, classifier__n_estimators=900, classifier__max_depth=18, classifier__criterion=entropy, score=0.407, total=   3.1s\n",
      "[CV] pca__n_components=6, classifier__n_estimators=900, classifier__max_depth=18, classifier__criterion=entropy \n",
      "[CV]  pca__n_components=6, classifier__n_estimators=900, classifier__max_depth=18, classifier__criterion=entropy, score=0.340, total=   3.2s\n",
      "[CV] pca__n_components=6, classifier__n_estimators=900, classifier__max_depth=18, classifier__criterion=entropy \n",
      "[CV]  pca__n_components=6, classifier__n_estimators=900, classifier__max_depth=18, classifier__criterion=entropy, score=0.407, total=   3.5s\n",
      "[CV] pca__n_components=6, classifier__n_estimators=900, classifier__max_depth=18, classifier__criterion=entropy \n",
      "[CV]  pca__n_components=6, classifier__n_estimators=900, classifier__max_depth=18, classifier__criterion=entropy, score=0.297, total=   3.3s\n",
      "[CV] pca__n_components=8, classifier__n_estimators=200, classifier__max_depth=13, classifier__criterion=entropy \n",
      "[CV]  pca__n_components=8, classifier__n_estimators=200, classifier__max_depth=13, classifier__criterion=entropy, score=0.420, total=   0.8s\n",
      "[CV] pca__n_components=8, classifier__n_estimators=200, classifier__max_depth=13, classifier__criterion=entropy \n",
      "[CV]  pca__n_components=8, classifier__n_estimators=200, classifier__max_depth=13, classifier__criterion=entropy, score=0.427, total=   0.7s\n",
      "[CV] pca__n_components=8, classifier__n_estimators=200, classifier__max_depth=13, classifier__criterion=entropy \n",
      "[CV]  pca__n_components=8, classifier__n_estimators=200, classifier__max_depth=13, classifier__criterion=entropy, score=0.385, total=   0.7s\n",
      "[CV] pca__n_components=8, classifier__n_estimators=200, classifier__max_depth=13, classifier__criterion=entropy \n",
      "[CV]  pca__n_components=8, classifier__n_estimators=200, classifier__max_depth=13, classifier__criterion=entropy, score=0.398, total=   0.8s\n",
      "[CV] pca__n_components=8, classifier__n_estimators=200, classifier__max_depth=13, classifier__criterion=entropy \n",
      "[CV]  pca__n_components=8, classifier__n_estimators=200, classifier__max_depth=13, classifier__criterion=entropy, score=0.410, total=   0.7s\n",
      "[CV] pca__n_components=5, classifier__n_estimators=1400, classifier__max_depth=1, classifier__criterion=gini \n",
      "[CV]  pca__n_components=5, classifier__n_estimators=1400, classifier__max_depth=1, classifier__criterion=gini, score=0.360, total=   2.4s\n",
      "[CV] pca__n_components=5, classifier__n_estimators=1400, classifier__max_depth=1, classifier__criterion=gini \n",
      "[CV]  pca__n_components=5, classifier__n_estimators=1400, classifier__max_depth=1, classifier__criterion=gini, score=0.357, total=   2.6s\n",
      "[CV] pca__n_components=5, classifier__n_estimators=1400, classifier__max_depth=1, classifier__criterion=gini \n",
      "[CV]  pca__n_components=5, classifier__n_estimators=1400, classifier__max_depth=1, classifier__criterion=gini, score=0.287, total=   2.4s\n",
      "[CV] pca__n_components=5, classifier__n_estimators=1400, classifier__max_depth=1, classifier__criterion=gini \n",
      "[CV]  pca__n_components=5, classifier__n_estimators=1400, classifier__max_depth=1, classifier__criterion=gini, score=0.343, total=   2.4s\n",
      "[CV] pca__n_components=5, classifier__n_estimators=1400, classifier__max_depth=1, classifier__criterion=gini \n",
      "[CV]  pca__n_components=5, classifier__n_estimators=1400, classifier__max_depth=1, classifier__criterion=gini, score=0.280, total=   2.4s\n",
      "[CV] pca__n_components=6, classifier__n_estimators=700, classifier__max_depth=6, classifier__criterion=gini \n",
      "[CV]  pca__n_components=6, classifier__n_estimators=700, classifier__max_depth=6, classifier__criterion=gini, score=0.385, total=   1.5s\n",
      "[CV] pca__n_components=6, classifier__n_estimators=700, classifier__max_depth=6, classifier__criterion=gini \n",
      "[CV]  pca__n_components=6, classifier__n_estimators=700, classifier__max_depth=6, classifier__criterion=gini, score=0.425, total=   1.5s\n",
      "[CV] pca__n_components=6, classifier__n_estimators=700, classifier__max_depth=6, classifier__criterion=gini \n",
      "[CV]  pca__n_components=6, classifier__n_estimators=700, classifier__max_depth=6, classifier__criterion=gini, score=0.393, total=   1.5s\n",
      "[CV] pca__n_components=6, classifier__n_estimators=700, classifier__max_depth=6, classifier__criterion=gini \n",
      "[CV]  pca__n_components=6, classifier__n_estimators=700, classifier__max_depth=6, classifier__criterion=gini, score=0.435, total=   1.5s\n",
      "[CV] pca__n_components=6, classifier__n_estimators=700, classifier__max_depth=6, classifier__criterion=gini \n",
      "[CV]  pca__n_components=6, classifier__n_estimators=700, classifier__max_depth=6, classifier__criterion=gini, score=0.370, total=   1.6s\n",
      "[CV] pca__n_components=5, classifier__n_estimators=200, classifier__max_depth=11, classifier__criterion=gini \n",
      "[CV]  pca__n_components=5, classifier__n_estimators=200, classifier__max_depth=11, classifier__criterion=gini, score=0.325, total=   0.6s\n",
      "[CV] pca__n_components=5, classifier__n_estimators=200, classifier__max_depth=11, classifier__criterion=gini \n",
      "[CV]  pca__n_components=5, classifier__n_estimators=200, classifier__max_depth=11, classifier__criterion=gini, score=0.388, total=   0.5s\n",
      "[CV] pca__n_components=5, classifier__n_estimators=200, classifier__max_depth=11, classifier__criterion=gini \n",
      "[CV]  pca__n_components=5, classifier__n_estimators=200, classifier__max_depth=11, classifier__criterion=gini, score=0.225, total=   0.6s\n",
      "[CV] pca__n_components=5, classifier__n_estimators=200, classifier__max_depth=11, classifier__criterion=gini \n",
      "[CV]  pca__n_components=5, classifier__n_estimators=200, classifier__max_depth=11, classifier__criterion=gini, score=0.335, total=   0.5s\n",
      "[CV] pca__n_components=5, classifier__n_estimators=200, classifier__max_depth=11, classifier__criterion=gini \n",
      "[CV]  pca__n_components=5, classifier__n_estimators=200, classifier__max_depth=11, classifier__criterion=gini, score=0.260, total=   0.6s\n",
      "[CV] pca__n_components=8, classifier__n_estimators=800, classifier__max_depth=14, classifier__criterion=entropy \n",
      "[CV]  pca__n_components=8, classifier__n_estimators=800, classifier__max_depth=14, classifier__criterion=entropy, score=0.403, total=   2.9s\n",
      "[CV] pca__n_components=8, classifier__n_estimators=800, classifier__max_depth=14, classifier__criterion=entropy \n",
      "[CV]  pca__n_components=8, classifier__n_estimators=800, classifier__max_depth=14, classifier__criterion=entropy, score=0.420, total=   2.8s\n",
      "[CV] pca__n_components=8, classifier__n_estimators=800, classifier__max_depth=14, classifier__criterion=entropy \n"
     ]
    },
    {
     "name": "stdout",
     "output_type": "stream",
     "text": [
      "[CV]  pca__n_components=8, classifier__n_estimators=800, classifier__max_depth=14, classifier__criterion=entropy, score=0.375, total=   2.8s\n",
      "[CV] pca__n_components=8, classifier__n_estimators=800, classifier__max_depth=14, classifier__criterion=entropy \n",
      "[CV]  pca__n_components=8, classifier__n_estimators=800, classifier__max_depth=14, classifier__criterion=entropy, score=0.407, total=   2.9s\n",
      "[CV] pca__n_components=8, classifier__n_estimators=800, classifier__max_depth=14, classifier__criterion=entropy \n",
      "[CV]  pca__n_components=8, classifier__n_estimators=800, classifier__max_depth=14, classifier__criterion=entropy, score=0.388, total=   2.9s\n",
      "[CV] pca__n_components=5, classifier__n_estimators=300, classifier__max_depth=7, classifier__criterion=entropy \n",
      "[CV]  pca__n_components=5, classifier__n_estimators=300, classifier__max_depth=7, classifier__criterion=entropy, score=0.343, total=   0.9s\n",
      "[CV] pca__n_components=5, classifier__n_estimators=300, classifier__max_depth=7, classifier__criterion=entropy \n",
      "[CV]  pca__n_components=5, classifier__n_estimators=300, classifier__max_depth=7, classifier__criterion=entropy, score=0.380, total=   0.9s\n",
      "[CV] pca__n_components=5, classifier__n_estimators=300, classifier__max_depth=7, classifier__criterion=entropy \n",
      "[CV]  pca__n_components=5, classifier__n_estimators=300, classifier__max_depth=7, classifier__criterion=entropy, score=0.307, total=   0.9s\n",
      "[CV] pca__n_components=5, classifier__n_estimators=300, classifier__max_depth=7, classifier__criterion=entropy \n",
      "[CV]  pca__n_components=5, classifier__n_estimators=300, classifier__max_depth=7, classifier__criterion=entropy, score=0.335, total=   0.9s\n",
      "[CV] pca__n_components=5, classifier__n_estimators=300, classifier__max_depth=7, classifier__criterion=entropy \n",
      "[CV]  pca__n_components=5, classifier__n_estimators=300, classifier__max_depth=7, classifier__criterion=entropy, score=0.255, total=   0.9s\n"
     ]
    },
    {
     "name": "stderr",
     "output_type": "stream",
     "text": [
      "[Parallel(n_jobs=1)]: Done  50 out of  50 | elapsed:  1.6min finished\n"
     ]
    },
    {
     "data": {
      "text/plain": [
       "RandomizedSearchCV(cv=5,\n",
       "                   estimator=Pipeline(steps=[('scaling', StandardScaler()),\n",
       "                                             ('pca', PCA()),\n",
       "                                             ('classifier',\n",
       "                                              RandomForestClassifier(n_jobs=-1))]),\n",
       "                   n_jobs=1,\n",
       "                   param_distributions={'classifier__criterion': ['gini',\n",
       "                                                                  'entropy'],\n",
       "                                        'classifier__max_depth': array([ 1,  2,  3,  4,  5,  6,  7,  8,  9, 10, 11, 12, 13, 14, 15, 16, 17,\n",
       "       18, 19]),\n",
       "                                        'classifier__n_estimators': array([ 100,  200,  300,  400,  500,  600,  700,  800,  900, 1000, 1100,\n",
       "       1200, 1300, 1400]),\n",
       "                                        'pca__n_components': array([5, 6, 7, 8, 9])},\n",
       "                   scoring='accuracy', verbose=10)"
      ]
     },
     "execution_count": 60,
     "metadata": {},
     "output_type": "execute_result"
    }
   ],
   "source": [
    "model3.fit(x,y)"
   ]
  },
  {
   "cell_type": "code",
   "execution_count": 61,
   "metadata": {},
   "outputs": [
    {
     "name": "stdout",
     "output_type": "stream",
     "text": [
      "{'memory': None, 'steps': [('scaling', StandardScaler()), ('pca', PCA(n_components=8)), ('classifier', RandomForestClassifier(criterion='entropy', max_depth=13, n_estimators=200,\n",
      "                       n_jobs=-1))], 'verbose': False, 'scaling': StandardScaler(), 'pca': PCA(n_components=8), 'classifier': RandomForestClassifier(criterion='entropy', max_depth=13, n_estimators=200,\n",
      "                       n_jobs=-1), 'scaling__copy': True, 'scaling__with_mean': True, 'scaling__with_std': True, 'pca__copy': True, 'pca__iterated_power': 'auto', 'pca__n_components': 8, 'pca__random_state': None, 'pca__svd_solver': 'auto', 'pca__tol': 0.0, 'pca__whiten': False, 'classifier__bootstrap': True, 'classifier__ccp_alpha': 0.0, 'classifier__class_weight': None, 'classifier__criterion': 'entropy', 'classifier__max_depth': 13, 'classifier__max_features': 'auto', 'classifier__max_leaf_nodes': None, 'classifier__max_samples': None, 'classifier__min_impurity_decrease': 0.0, 'classifier__min_impurity_split': None, 'classifier__min_samples_leaf': 1, 'classifier__min_samples_split': 2, 'classifier__min_weight_fraction_leaf': 0.0, 'classifier__n_estimators': 200, 'classifier__n_jobs': -1, 'classifier__oob_score': False, 'classifier__random_state': None, 'classifier__verbose': 0, 'classifier__warm_start': False}\n"
     ]
    }
   ],
   "source": [
    "print(model.best_score_)\n",
    "print(model.best_estimator_.get_params())"
   ]
  },
  {
   "cell_type": "code",
   "execution_count": null,
   "metadata": {},
   "outputs": [],
   "source": [
    "#Bayesian optimization\n",
    "def optimize(params,param_names,x,y):\n",
    "    params=dict(zip(param_names,params))\n",
    "    model4=ensemble.RandomForestClassifier(**params)\n",
    "    kf=model_selection.StratifiedKFold(n_splits=5)\n",
    "    accuracies=[]\n",
    "    for idx in kf.split(X=x,y=y):\n",
    "        train_idx,test_idx=idx[0],idx[1]\n",
    "        x_train=x[train_idx]"
   ]
  }
 ],
 "metadata": {
  "kernelspec": {
   "display_name": "Python 3",
   "language": "python",
   "name": "python3"
  },
  "language_info": {
   "codemirror_mode": {
    "name": "ipython",
    "version": 3
   },
   "file_extension": ".py",
   "mimetype": "text/x-python",
   "name": "python",
   "nbconvert_exporter": "python",
   "pygments_lexer": "ipython3",
   "version": "3.8.5"
  }
 },
 "nbformat": 4,
 "nbformat_minor": 4
}
